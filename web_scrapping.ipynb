{
 "cells": [
  {
   "cell_type": "code",
   "execution_count": null,
   "metadata": {
    "colab": {
     "background_save": true,
     "base_uri": "https://localhost:8080/"
    },
    "id": "Rq1pPwDmbhND",
    "outputId": "9c2395d9-6244-4510-bcc8-ea810b803b2f"
   },
   "outputs": [],
   "source": [
    "!pip install bs4"
   ]
  },
  {
   "cell_type": "code",
   "execution_count": null,
   "metadata": {
    "colab": {
     "background_save": true
    },
    "id": "a-VFwlQhbZb6"
   },
   "outputs": [],
   "source": [
    "import requests\n",
    "import time\n",
    "from bs4 import BeautifulSoup"
   ]
  },
  {
   "cell_type": "code",
   "execution_count": null,
   "metadata": {
    "colab": {
     "background_save": true
    },
    "id": "bLwgT61Sbm2Z"
   },
   "outputs": [],
   "source": [
    "url = \"https://books.toscrape.com/\"\n",
    "response = requests.get(url)\n",
    "scraped = BeautifulSoup(response.text, 'html.parser')"
   ]
  },
  {
   "cell_type": "code",
   "execution_count": null,
   "metadata": {
    "colab": {
     "background_save": true,
     "base_uri": "https://localhost:8080/"
    },
    "id": "WHPTFaexYPNz",
    "outputId": "d03e90e3-bfe0-4b23-a003-0b84dd6235f4"
   },
   "outputs": [],
   "source": [
    "scraped"
   ]
  },
  {
   "cell_type": "code",
   "execution_count": null,
   "metadata": {
    "colab": {
     "background_save": true,
     "base_uri": "https://localhost:8080/"
    },
    "id": "ZcYS2nUccH_l",
    "outputId": "a4ed5941-db1e-4d6c-9089-05a148321fbd"
   },
   "outputs": [],
   "source": [
    "books = scraped.find_all(\"h3\")\n",
    "books\n",
    "\n",
    "start_time = time.time()\n",
    "books_extracted = 0\n",
    "\n",
    "for book in books:\n",
    "  book_url = book.find('a')['href']\n",
    "  book_res = requests.get(url+book_url)\n",
    "  book_scraped = BeautifulSoup(book_res.content, \"html.parser\")\n",
    "\n",
    "  title = book_scraped.find('h1').text\n",
    "  category = book_scraped.find('ul', class_=\"breadcrumb\").find_all(\"a\")[2].text.strip()\n",
    "  rating = book_scraped.find('p', class_=\"star-rating\")['class'][1]\n",
    "  price = book_scraped.find('p', class_=\"price_color\").text.strip()\n",
    "  avaialability = book_scraped.find('p', class_=\"availability\").text.strip()\n",
    "\n",
    "  books_extracted += 1\n",
    "\n",
    "  end_time = time.time()\n",
    "  tot_time = (end_time - start_time)/60.0\n",
    "  print(f'{title} \\n',\n",
    "        f'{category} \\n',\n",
    "        f'{rating} \\n',\n",
    "        f'{price} \\n',\n",
    "        f'{avaialability}'\n",
    "  )"
   ]
  },
  {
   "cell_type": "code",
   "execution_count": null,
   "metadata": {
    "colab": {
     "background_save": true,
     "base_uri": "https://localhost:8080/"
    },
    "id": "5b6ngFzadJ-x",
    "outputId": "5309ea15-3c35-4937-9c91-0ce5be0e587c"
   },
   "outputs": [],
   "source": [
    "books_data = []\n",
    "\n",
    "for page_num in range(1, 51):\n",
    "  url = f'https://books.toscrape.com/catalogue/page-{page_num}.html'\n",
    "  response = requests.get(url)\n",
    "  scraped = BeautifulSoup(response.text, 'html.parser')\n",
    "\n",
    "  books = scraped.find_all(\"h3\")\n",
    "\n",
    "  start_time = time.time()\n",
    "\n",
    "  for book in books:\n",
    "    book_url = book.find('a')['href']\n",
    "    book_res = requests.get('https://books.toscrape.com/catalogue/'+book_url)\n",
    "    book_scraped = BeautifulSoup(book_res.content, \"html.parser\")\n",
    "\n",
    "    title = book_scraped.find('h1').text\n",
    "    category = book_scraped.find('ul', class_=\"breadcrumb\").find_all(\"a\")[2].text.strip()\n",
    "    rating = book_scraped.find('p', class_=\"star-rating\")['class'][1]\n",
    "    price = book_scraped.find('p', class_=\"price_color\").text.strip()\n",
    "    avaialability = book_scraped.find('p', class_=\"availability\").text.strip()\n",
    "\n",
    "    books_data.append([title, category, rating, price, avaialability])\n",
    "    books_extracted += 1\n",
    "    end_time = time.time()\n",
    "    tot_time = (end_time - start_time)/60.0\n",
    "    print(title, category, rating, price, avaialability)\n",
    "    print(books_data)\n",
    "\n",
    "    print(f'{page_num * len(books)} books extracted so far ....')\n"
   ]
  },
  {
   "cell_type": "code",
   "execution_count": null,
   "metadata": {
    "colab": {
     "background_save": true
    },
    "id": "K96z_KWzd2qQ",
    "outputId": "8e98bb9a-88a4-4329-bb14-85846f8ca5e5"
   },
   "outputs": [],
   "source": [
    "import pandas as pd"
   ]
  },
  {
   "cell_type": "code",
   "execution_count": null,
   "metadata": {
    "colab": {
     "background_save": true
    },
    "id": "muQzvc7meh4I"
   },
   "outputs": [],
   "source": [
    "df = pd.DataFrame(books_data, columns=[\"Title\", \"Category\",\"Rating\",\"Price\",\"Avaialability\"])"
   ]
  },
  {
   "cell_type": "code",
   "execution_count": null,
   "metadata": {
    "colab": {
     "background_save": true
    },
    "id": "FwB9sFvSevq0"
   },
   "outputs": [],
   "source": [
    "df.head(20)"
   ]
  },
  {
   "cell_type": "code",
   "execution_count": null,
   "metadata": {
    "colab": {
     "background_save": true
    },
    "id": "w_niTIcnfOKM"
   },
   "outputs": [],
   "source": [
    "df.to_csv(\"books_scraped.csv\", index=False)\n",
    "print(\"Books scraped have been saved to csv file\")"
   ]
  },
  {
   "cell_type": "code",
   "execution_count": null,
   "metadata": {
    "colab": {
     "background_save": true
    },
    "id": "GaR8Yd9lq0mQ"
   },
   "outputs": [],
   "source": []
  },
  {
   "cell_type": "code",
   "execution_count": null,
   "metadata": {
    "colab": {
     "background_save": true
    },
    "id": "WP0nCDNgw5kv"
   },
   "outputs": [],
   "source": []
  }
 ],
 "metadata": {
  "colab": {
   "provenance": []
  },
  "kernelspec": {
   "display_name": "Python 3 (ipykernel)",
   "language": "python",
   "name": "python3"
  },
  "language_info": {
   "codemirror_mode": {
    "name": "ipython",
    "version": 3
   },
   "file_extension": ".py",
   "mimetype": "text/x-python",
   "name": "python",
   "nbconvert_exporter": "python",
   "pygments_lexer": "ipython3",
   "version": "3.11.5"
  }
 },
 "nbformat": 4,
 "nbformat_minor": 1
}
